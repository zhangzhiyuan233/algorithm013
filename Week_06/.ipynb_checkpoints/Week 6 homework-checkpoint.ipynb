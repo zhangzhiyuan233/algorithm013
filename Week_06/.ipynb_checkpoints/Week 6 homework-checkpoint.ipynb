{
 "cells": [
  {
   "cell_type": "markdown",
   "metadata": {},
   "source": [
    "## 不同路径"
   ]
  },
  {
   "cell_type": "code",
   "execution_count": null,
   "metadata": {},
   "outputs": [],
   "source": [
    "class Solution:\n",
    "    def uniquePaths(self, m: int, n: int) -> int:\n",
    "        return int(math.factorial(m+n-2)/math.factorial(m-1)/math.factorial(n-1))"
   ]
  },
  {
   "cell_type": "code",
   "execution_count": null,
   "metadata": {},
   "outputs": [],
   "source": [
    "class Solution:\n",
    "    def uniquePaths(self, m: int, n: int) -> int:\n",
    "        dp = [[1]*n] + [[1] + [0]*(n-1) for _ in range(m-1)]\n",
    "        for i in range(1,m):\n",
    "            for j in range(1,n):\n",
    "                dp[i][j] = dp[i-1][j] + dp[i][j-1]\n",
    "        return dp[-1][-1]"
   ]
  },
  {
   "cell_type": "code",
   "execution_count": null,
   "metadata": {},
   "outputs": [],
   "source": [
    "class Solution:\n",
    "    def uniquePaths(self, m: int, n: int) -> int:\n",
    "        cur = [1] * n\n",
    "        for i in range(1,m):\n",
    "            for j in range(1,n):\n",
    "                cur[j] += cur[j-1]\n",
    "        return cur[-1]"
   ]
  },
  {
   "cell_type": "markdown",
   "metadata": {},
   "source": [
    "## 不同路径 II"
   ]
  },
  {
   "cell_type": "code",
   "execution_count": null,
   "metadata": {},
   "outputs": [],
   "source": [
    "dp = [[0]*len(obstacleGrid[0]) for _ in range(len(obstacleGrid))]\n",
    "        dp[0][0] = 1 if obstacleGrid[0][0] == 0 else 0\n",
    "\n",
    "        for i in range(len(obstacleGrid)):\n",
    "            for j in range(len(obstacleGrid[0])):\n",
    "                if obstacleGrid[i][j] == 1:\n",
    "                    dp[i][j] = 0\n",
    "                else:\n",
    "                    if i - 1 >= 0:\n",
    "                        dp[i][j] += dp[i-1][j]\n",
    "                    if j - 1 >= 0:\n",
    "                        dp[i][j] += dp[i][j-1]\n",
    "        return dp[-1][-1]"
   ]
  },
  {
   "cell_type": "markdown",
   "metadata": {},
   "source": [
    "## 最长公共子序列"
   ]
  },
  {
   "cell_type": "code",
   "execution_count": null,
   "metadata": {},
   "outputs": [],
   "source": [
    "#超时\n",
    "class Solution:\n",
    "    def longestCommonSubsequence(self, text1: str, text2: str) -> int:\n",
    "        def dp(i,j):\n",
    "            if i == -1 or j == -1:\n",
    "                return 0\n",
    "            if text1[i] == text2[j]:\n",
    "                return dp(i-1, j-1) + 1\n",
    "            else:\n",
    "                return max(dp(i-1,j), dp(i,j-1))\n",
    "        return dp(len(text1)-1, len(text2)-1)"
   ]
  },
  {
   "cell_type": "code",
   "execution_count": null,
   "metadata": {},
   "outputs": [],
   "source": [
    "class Solution:\n",
    "    def longestCommonSubsequence(self, text1: str, text2: str) -> int:\n",
    "        m,n = len(text1), len(text2)\n",
    "        dp = [[0]*(n+1) for _ in range(m+1)]\n",
    "        for i in range(1, m+1):\n",
    "            for j in range(1, n+1):\n",
    "                if text1[i-1] == text2[j-1]:\n",
    "                    dp[i][j] = 1 + dp[i-1][j-1]\n",
    "                else:\n",
    "                    dp[i][j] = max(dp[i-1][j], dp[i][j-1])\n",
    "        return dp[-1][-1]"
   ]
  },
  {
   "cell_type": "markdown",
   "metadata": {},
   "source": [
    "## 三角形最小路径和"
   ]
  },
  {
   "cell_type": "code",
   "execution_count": null,
   "metadata": {},
   "outputs": [],
   "source": [
    "class Solution:\n",
    "    def minimumTotal(self, triangle: List[List[int]]) -> int:\n",
    "        n = len(triangle)\n",
    "        f = [[0]*n for _ in range(n)]\n",
    "        f[0][0] = triangle[0][0]\n",
    "\n",
    "        for i in range(1,n):\n",
    "            f[i][0] = f[i-1][0] + triangle[i][0]\n",
    "            for j in range(1,i):\n",
    "                f[i][j] = min(f[i-1][j-1], f[i-1][j]) + triangle[i][j]\n",
    "            f[i][i] = f[i-1][i-1] + triangle[i][i]\n",
    "        return min(f[n-1])"
   ]
  },
  {
   "cell_type": "code",
   "execution_count": null,
   "metadata": {},
   "outputs": [],
   "source": [
    "class Solution:\n",
    "    def minimumTotal(self, triangle: List[List[int]]) -> int:\n",
    "        if not triangle:\n",
    "            return \n",
    "        for i in range(1, len(triangle)):\n",
    "            for j in range(len(triangle[i])):\n",
    "                if j == 0:\n",
    "                    triangle[i][j] += triangle[i-1][j]\n",
    "                elif j == len(triangle[i])-1:\n",
    "                    triangle[i][j] += triangle[i-1][j-1]\n",
    "                else:\n",
    "                    triangle[i][j] += min(triangle[i-1][j-1], triangle[i-1][j])\n",
    "        return min(triangle[-1])"
   ]
  },
  {
   "cell_type": "markdown",
   "metadata": {},
   "source": [
    "## 最大子序和"
   ]
  },
  {
   "cell_type": "code",
   "execution_count": null,
   "metadata": {},
   "outputs": [],
   "source": [
    "class Solution:\n",
    "    def maxSubArray(self, nums: List[int]) -> int:\n",
    "        cur = nums[0]\n",
    "        max_sum = cur\n",
    "        n = len(nums)\n",
    "        for i in range(1,n):\n",
    "            if cur + nums[i] > nums[i]:\n",
    "                max_sum = max(max_sum, cur + nums[i])\n",
    "                cur = cur + nums[i]\n",
    "            else:\n",
    "                max_sum = max(max_sum, cur, cur+nums[i], nums[i])\n",
    "                cur = nums[i]\n",
    "        return max_sum"
   ]
  },
  {
   "cell_type": "code",
   "execution_count": null,
   "metadata": {},
   "outputs": [],
   "source": [
    "class Solution:\n",
    "    def maxSubArray(self, nums: List[int]) -> int:\n",
    "        n = len(nums)\n",
    "        dp = [0]*n\n",
    "        dp[0] = nums[0]\n",
    "        for i in range(1, n):\n",
    "            if dp[i-1]<0:\n",
    "                dp[i] = nums[i]\n",
    "            else:\n",
    "                dp[i] = dp[i-1]+nums[i]\n",
    "        return max(dp)"
   ]
  },
  {
   "cell_type": "markdown",
   "metadata": {},
   "source": [
    "## 乘积最大子数组"
   ]
  },
  {
   "cell_type": "code",
   "execution_count": null,
   "metadata": {},
   "outputs": [],
   "source": [
    "class Solution:\n",
    "    def maxProduct(self, nums: List[int]) -> int:\n",
    "        if not nums:\n",
    "            return \n",
    "        res = nums[0]\n",
    "        pre_max = nums[0]\n",
    "        pre_min = nums[0]\n",
    "        for num in nums[1:]:\n",
    "            cur_max = max(pre_max*num, pre_min*num, num)\n",
    "            cur_min = min(pre_max*num, pre_min*num, num)\n",
    "            res = max(res, cur_max)\n",
    "            pre_max = cur_max\n",
    "            pre_min = cur_min\n",
    "        return res"
   ]
  },
  {
   "cell_type": "markdown",
   "metadata": {},
   "source": [
    "## 零钱兑换"
   ]
  },
  {
   "cell_type": "code",
   "execution_count": null,
   "metadata": {},
   "outputs": [],
   "source": [
    "class Solution:\n",
    "    def coinChange(self, coins: List[int], amount: int) -> int:\n",
    "        m = amount\n",
    "        f = [float('inf')]*(m+1)\n",
    "        f[0] = 0\n",
    "        for c in coins:\n",
    "            for j in range(c, m+1):\n",
    "                f[j] = min(f[j],f[j-c]+1)\n",
    "        return f[m] if f[m] != float('inf') else -1 \n",
    "         "
   ]
  },
  {
   "cell_type": "markdown",
   "metadata": {},
   "source": [
    "## 打家劫舍"
   ]
  },
  {
   "cell_type": "code",
   "execution_count": null,
   "metadata": {},
   "outputs": [],
   "source": [
    "class Solution:\n",
    "    def rob(self, nums: List[int]) -> int:\n",
    "        cur, pre = 0, 0\n",
    "        for num in nums:\n",
    "            cur, pre = max(pre+num, cur),cur\n",
    "        return cur"
   ]
  },
  {
   "cell_type": "markdown",
   "metadata": {},
   "source": [
    "## 打家劫舍 II"
   ]
  },
  {
   "cell_type": "code",
   "execution_count": null,
   "metadata": {},
   "outputs": [],
   "source": [
    "class Solution:\n",
    "    def rob(self, nums: List[int]) -> int:\n",
    "        if len(nums) == 1:\n",
    "            return nums[0]\n",
    "        def myrob(nums):\n",
    "            pre,cur = 0,0\n",
    "            for num in nums:\n",
    "                cur, pre = max(num+pre, cur),cur\n",
    "            return cur\n",
    "        ans1 = myrob(nums[:-1])\n",
    "        ans2 = myrob(nums[1:])\n",
    "        return max(ans1, ans2)"
   ]
  },
  {
   "cell_type": "markdown",
   "metadata": {},
   "source": [
    "## 买卖股票的最佳时机"
   ]
  },
  {
   "cell_type": "code",
   "execution_count": null,
   "metadata": {},
   "outputs": [],
   "source": [
    "class Solution:\n",
    "    def maxProfit(self, prices: List[int]) -> int:\n",
    "        if not prices:\n",
    "            return 0\n",
    "        minprice = prices[0]\n",
    "        maxprofit = 0\n",
    "        for price in prices:\n",
    "            maxprofit = max(price - minprice, maxprofit)\n",
    "            minprice = min(price, minprice)\n",
    "        return maxprofit"
   ]
  },
  {
   "cell_type": "markdown",
   "metadata": {},
   "source": [
    "## 买卖股票的最佳时机 II"
   ]
  },
  {
   "cell_type": "code",
   "execution_count": null,
   "metadata": {},
   "outputs": [],
   "source": [
    "class Solution:\n",
    "    def maxProfit(self, prices: List[int]) -> int:\n",
    "        sum_profit = 0\n",
    "        for i in range(1, len(prices)):\n",
    "            if prices[i] - prices[i-1] > 0:\n",
    "                sum_profit += prices[i] - prices[i-1]\n",
    "        return sum_profit"
   ]
  },
  {
   "cell_type": "markdown",
   "metadata": {},
   "source": [
    "## 买卖股票的最佳时机 III"
   ]
  },
  {
   "cell_type": "code",
   "execution_count": null,
   "metadata": {},
   "outputs": [],
   "source": [
    "class Solution:\n",
    "    def maxProfit(self, prices: List[int]) -> int:\n",
    "        buy1 = buy2 = float('inf')\n",
    "        pro1 = pro2 = 0\n",
    "        for p in prices:\n",
    "            buy1 = min(buy1, p)\n",
    "            pro1 = max(pro1, p - buy1)\n",
    "            buy2 = min(buy2, p - pro1)\n",
    "            pro2 = max(pro2, p - buy2)\n",
    "        return pro2"
   ]
  },
  {
   "cell_type": "markdown",
   "metadata": {},
   "source": [
    "## 最佳买卖股票时机含冷冻期"
   ]
  },
  {
   "cell_type": "code",
   "execution_count": null,
   "metadata": {},
   "outputs": [],
   "source": [
    "class Solution:\n",
    "    def maxProfit(self, prices: List[int]) -> int:\n",
    "        if not prices:\n",
    "            return 0\n",
    "        n = len(prices)\n",
    "        f0, f1, f2 = -prices[0], 0, 0\n",
    "        for i in range(1,n):\n",
    "            newf0 = max(f0, f2 - prices[i])\n",
    "            newf1 = f0 + prices[i]\n",
    "            newf2 = max(f1, f2)\n",
    "            f0, f1, f2 = newf0, newf1, newf2\n",
    "        return max(f1, f2)"
   ]
  },
  {
   "cell_type": "markdown",
   "metadata": {},
   "source": [
    "## 买卖股票的最佳时机 IV"
   ]
  },
  {
   "cell_type": "code",
   "execution_count": null,
   "metadata": {},
   "outputs": [],
   "source": [
    "def maxProfit(self, k: int, prices: List[int]) -> int:\n",
    "        if not prices:\n",
    "            return 0\n",
    "        def maxProfit(self, k, prices):\t\n",
    "            if not prices:\n",
    "                return 0\n",
    "        n = len(prices)\n",
    "        if k>n//2:\n",
    "            dp0,dp1 = 0,-prices[0]\n",
    "            for i in range(1,n):\n",
    "                tmp = dp0\n",
    "                dp0 = max(dp0,dp1+prices[i])\n",
    "                dp1 = max(dp1,dp0-prices[i])\n",
    "            return max(dp0,dp1)  \n",
    "        dp = [[0,0] for _ in range(k+1)]\n",
    "        for i in range(k+1):\n",
    "            dp[i][1] = -prices[0]\n",
    "        for i in range(1,n):\n",
    "            for j in range(k,0,-1):\n",
    "                dp[j-1][1] = max(dp[j-1][1],dp[j-1][0]-prices[i])\n",
    "                dp[j][0] = max(dp[j][0],dp[j-1][1]+prices[i])\n",
    "        return dp[-1][0]"
   ]
  },
  {
   "cell_type": "markdown",
   "metadata": {},
   "source": [
    "## 买卖股票的最佳时机含手续费"
   ]
  },
  {
   "cell_type": "code",
   "execution_count": null,
   "metadata": {},
   "outputs": [],
   "source": [
    "class Solution:\n",
    "    def maxProfit(self, prices: List[int], fee: int) -> int:\n",
    "        if not prices:\n",
    "            return 0\n",
    "        cash, hold = 0, -prices[0]\n",
    "        for i in range(1, len(prices)):\n",
    "            cash = max(cash, hold+prices[i]-fee)\n",
    "            hold = max(hold, cash - prices[i])\n",
    "        return cash"
   ]
  }
 ],
 "metadata": {
  "kernelspec": {
   "display_name": "Python 3",
   "language": "python",
   "name": "python3"
  },
  "language_info": {
   "codemirror_mode": {
    "name": "ipython",
    "version": 3
   },
   "file_extension": ".py",
   "mimetype": "text/x-python",
   "name": "python",
   "nbconvert_exporter": "python",
   "pygments_lexer": "ipython3",
   "version": "3.7.4"
  }
 },
 "nbformat": 4,
 "nbformat_minor": 4
}
