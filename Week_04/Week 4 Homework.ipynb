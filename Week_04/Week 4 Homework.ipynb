{
 "cells": [
  {
   "cell_type": "markdown",
   "metadata": {},
   "source": [
    "## 二叉树的层序遍历"
   ]
  },
  {
   "cell_type": "code",
   "execution_count": null,
   "metadata": {},
   "outputs": [],
   "source": [
    "class Solution:\n",
    "    def levelOrder(self, root: TreeNode) -> List[List[int]]:\n",
    "        queue = collections.deque()\n",
    "        queue.append(root)\n",
    "        res = []\n",
    "        while queue:\n",
    "            size = len(queue)\n",
    "            level = []\n",
    "            for _ in range(size):\n",
    "                cur = queue.popleft()\n",
    "                if not cur:\n",
    "                    continue\n",
    "                level.append(cur.val)\n",
    "                queue.append(cur.left)\n",
    "                queue.append(cur.right)\n",
    "            if level:\n",
    "                res.append(level)\n",
    "        return res"
   ]
  },
  {
   "cell_type": "markdown",
   "metadata": {},
   "source": [
    "## 最小基因变化"
   ]
  },
  {
   "cell_type": "code",
   "execution_count": null,
   "metadata": {},
   "outputs": [],
   "source": [
    "class Solution:\n",
    "    def minMutation(self, start: str, end: str, bank: List[str]) -> int:\n",
    "        possible = ['A', 'C', 'G', 'T']\n",
    "        queue = [(start, 0)]\n",
    "        while queue:\n",
    "            (word, step) = queue.pop(0)\n",
    "            if word == end:\n",
    "                return step\n",
    "            for i in range(len(word)):\n",
    "                for p in possible:\n",
    "                    temp = word[:i] + p + word[i+1:]\n",
    "                    if temp in bank:\n",
    "                        bank.remove(temp)\n",
    "                        queue.append((temp, step +1))\n",
    "        return -1"
   ]
  },
  {
   "cell_type": "markdown",
   "metadata": {},
   "source": [
    "## 括号生成"
   ]
  },
  {
   "cell_type": "code",
   "execution_count": null,
   "metadata": {},
   "outputs": [],
   "source": [
    "class Solution:\n",
    "    def generateParenthesis(self, n: int) -> List[str]:\n",
    "        if n ==0:\n",
    "            return []\n",
    "        result = []\n",
    "        self.helper(n, n, '', result)\n",
    "        return result\n",
    "    def helper(self, l,r, item, result):\n",
    "        if l > r:\n",
    "            return \n",
    "        if l ==0 and r == 0:\n",
    "            result.append(item)\n",
    "        if l > 0:\n",
    "            self.helper(l-1, r, item + '(', result)\n",
    "        if r > 0:\n",
    "            self.helper(l, r-1, item + ')', result)"
   ]
  },
  {
   "cell_type": "markdown",
   "metadata": {},
   "source": [
    "## 在每个树行中找最大值"
   ]
  },
  {
   "cell_type": "code",
   "execution_count": null,
   "metadata": {},
   "outputs": [],
   "source": [
    "class Solution:\n",
    "    def largestValues(self, root: TreeNode) -> List[int]:\n",
    "        queue = collections.deque()\n",
    "        queue.append(root)\n",
    "        res = []\n",
    "        while queue:\n",
    "            size = len(queue)\n",
    "            level = []\n",
    "            for _ in range(size):\n",
    "                cur = queue.popleft()\n",
    "                if not cur:\n",
    "                    continue\n",
    "                level.append(cur.val)\n",
    "                queue.append(cur.left)\n",
    "                queue.append(cur.right)\n",
    "            if level:\n",
    "                res.append(max(level))\n",
    "        return res"
   ]
  },
  {
   "cell_type": "markdown",
   "metadata": {},
   "source": [
    "## 单词接龙 （方法一超时）"
   ]
  },
  {
   "cell_type": "code",
   "execution_count": null,
   "metadata": {},
   "outputs": [],
   "source": [
    "class Solution:\n",
    "    def ladderLength(self, beginWord: str, endWord: str, wordList: List[str]) -> int:\n",
    "        possible = [chr(i) for i in range(97,123)]\n",
    "        queue = [(beginWord,1)]\n",
    "        while queue:\n",
    "            (word, step) = queue.pop(0)\n",
    "            if word == endWord:\n",
    "                return step\n",
    "            for i in range(len(word)):\n",
    "                for p in possible:\n",
    "                    temp = word[:i] + p + word[i+1:]\n",
    "                    if temp in wordList:\n",
    "                        wordList.remove(temp)\n",
    "                        queue.append((temp, step+1))\n",
    "        return 0"
   ]
  },
  {
   "cell_type": "code",
   "execution_count": null,
   "metadata": {},
   "outputs": [],
   "source": [
    "class Solution:\n",
    "    def ladderLength(self, beginWord: str, endWord: str, wordList: List[str]) -> int:\n",
    "        L = len(beginWord)\n",
    "        all_combo_dict = defaultdict(list)\n",
    "        for word in wordList:\n",
    "            for i in range(L):\n",
    "                all_combo_dict[word[:i]+ '*'+word[i+1:]].append(word)\n",
    "        \n",
    "        queue = [(beginWord,1)]\n",
    "        visited = {beginWord: True}\n",
    "        while queue:\n",
    "            current_word, level = queue.pop(0)\n",
    "            for i in range(L):\n",
    "                intermediate_word = current_word[:i] + '*' + current_word[i+1:]\n",
    "                for word in all_combo_dict[intermediate_word]:\n",
    "                    if word == endWord:\n",
    "                        return level+1\n",
    "                    if word not in visited:\n",
    "                        visited[word] = True\n",
    "                        queue.append((word, level+1))\n",
    "                all_combo_dict[intermediate_word] = []\n",
    "        return 0"
   ]
  },
  {
   "cell_type": "markdown",
   "metadata": {},
   "source": [
    "## 单词接龙 II (注意res输出方式)"
   ]
  },
  {
   "cell_type": "code",
   "execution_count": null,
   "metadata": {},
   "outputs": [],
   "source": [
    "class Solution:\n",
    "    def findLadders(self, beginWord: str, endWord: str, wordList: List[str]) -> List[List[str]]:\n",
    "        from collections import deque\n",
    "        wordList.append(beginWord)\n",
    "        buckets = defaultdict(list)\n",
    "        for word in wordList:\n",
    "            for i in range(len(beginWord)):\n",
    "                match = word[:i] + '*' + word[i+1:]\n",
    "                buckets[match].append(word)\n",
    "        \n",
    "        preWords = defaultdict(list)\n",
    "        toSeen = deque([(beginWord, 1)])\n",
    "        beFound = {beginWord : 1}\n",
    "        while toSeen:\n",
    "            curWord, level = toSeen.popleft()\n",
    "            for i in range(len(beginWord)):\n",
    "                match = curWord[:i] + '*' + curWord[i+1:]\n",
    "                for word in buckets[match]:\n",
    "                    if word not in beFound:\n",
    "                        beFound[word] = level+1\n",
    "                        toSeen.append((word, level+1))\n",
    "                    if beFound[word] == level+1:\n",
    "                        preWords[word].append(curWord)\n",
    "            if endWord in beFound and level +1 > beFound[endWord]:\n",
    "                break\n",
    "        if endWord in beFound:\n",
    "            res = [[endWord]]\n",
    "            while res[0][0] != beginWord:\n",
    "                res = [[word] + r for r in res for word in preWords[r[0]]]\n",
    "            return res\n",
    "        else:\n",
    "            return []"
   ]
  },
  {
   "cell_type": "markdown",
   "metadata": {},
   "source": [
    "## 岛屿数量"
   ]
  },
  {
   "cell_type": "code",
   "execution_count": null,
   "metadata": {},
   "outputs": [],
   "source": [
    "class Solution:\n",
    "    def numIslands(self, grid: List[List[str]]) -> int:\n",
    "        if not grid:\n",
    "            return 0\n",
    "        m = len(grid)\n",
    "        n = len(grid[0])\n",
    "\n",
    "        def dfs(grid, i, j):\n",
    "            grid[i][j] = '0'\n",
    "            directions = {(1,0), (-1, 0), (0, 1), (0, -1)}\n",
    "            for d_i, d_j in directions:\n",
    "                new_i = i + d_i\n",
    "                new_j = j + d_j\n",
    "                if new_i >= 0 and new_i < m and new_j >= 0 and new_j < n and grid[new_i][new_j] == '1':\n",
    "                    dfs(grid, new_i, new_j)\n",
    "            return \n",
    "        count = 0\n",
    "        for i in range(m):\n",
    "            for j in range(n):\n",
    "                if grid[i][j] == '1':\n",
    "                    count +=1\n",
    "                    dfs(grid,i,j)\n",
    "        return count"
   ]
  },
  {
   "cell_type": "markdown",
   "metadata": {},
   "source": [
    "## 扫雷游戏"
   ]
  },
  {
   "cell_type": "code",
   "execution_count": null,
   "metadata": {},
   "outputs": [],
   "source": [
    "class Solution:\n",
    "    def updateBoard(self, board: List[List[str]], click: List[int]) -> List[List[str]]:\n",
    "        dic = [[-1,0], [-1,1], [0,1], [1,1], [1,0],[1,-1], [0,-1], [-1,-1]]\n",
    "        def search_around(x,y):\n",
    "            count = 0\n",
    "            for i, j in dic:\n",
    "                if 0<=x+i<=n-1 and 0<=y+j<=m-1:\n",
    "                    if board[x+i][y+j]=='M':\n",
    "                        count +=1\n",
    "            return count\n",
    "\n",
    "        def dfs(x,y):\n",
    "            if x < 0 or x > n-1 or y < 0 or y > m-1:\n",
    "                return\n",
    "            if board[x][y]!='E':\n",
    "                return\n",
    "            count = search_around(x,y)\n",
    "            if count!=0:\n",
    "                board[x][y] = str(count)\n",
    "                return\n",
    "            else:\n",
    "                board[x][y] = 'B'\n",
    "                for i,j in dic:\n",
    "                    dfs(x+i, y+j)\n",
    "        n = len(board)\n",
    "        m = len(board[0])\n",
    "        if board[click[0]][click[1]] == 'M':\n",
    "            board[click[0]][click[1]] = 'X'\n",
    "            return board\n",
    "        else:\n",
    "            dfs(click[0], click[1])\n",
    "            return board"
   ]
  },
  {
   "cell_type": "markdown",
   "metadata": {},
   "source": [
    "## 柠檬水找零"
   ]
  },
  {
   "cell_type": "code",
   "execution_count": null,
   "metadata": {},
   "outputs": [],
   "source": [
    "class Solution:\n",
    "    def lemonadeChange(self, bills: List[int]) -> bool:\n",
    "        five = ten = 0\n",
    "        for bill in bills:\n",
    "            if bill == 5:\n",
    "                five +=1\n",
    "            elif bill == 10:\n",
    "                if not five:\n",
    "                    return False\n",
    "                ten +=1\n",
    "                five -=1\n",
    "            else:\n",
    "                if ten and five:\n",
    "                    ten -=1\n",
    "                    five -=1\n",
    "                elif five >= 3:\n",
    "                    five -=3\n",
    "                else:\n",
    "                    return False\n",
    "        return True"
   ]
  },
  {
   "cell_type": "markdown",
   "metadata": {},
   "source": [
    "## 买股票的最佳时机"
   ]
  },
  {
   "cell_type": "code",
   "execution_count": null,
   "metadata": {},
   "outputs": [],
   "source": [
    "class Solution:\n",
    "    def maxProfit(self, prices: List[int]) -> int:\n",
    "        sum_profit = 0\n",
    "        for i in range(1, len(prices)):\n",
    "            if prices[i] - prices[i-1] > 0:\n",
    "                sum_profit += prices[i] - prices[i-1]\n",
    "        return sum_profit"
   ]
  },
  {
   "cell_type": "markdown",
   "metadata": {},
   "source": [
    "## 分发饼干"
   ]
  },
  {
   "cell_type": "code",
   "execution_count": null,
   "metadata": {},
   "outputs": [],
   "source": [
    "class Solution:\n",
    "    def findContentChildren(self, g: List[int], s: List[int]) -> int:\n",
    "        s = sorted(s)\n",
    "        g = sorted(g)\n",
    "        gi = si = 0\n",
    "        while gi < len(g) and si < len(s):\n",
    "            if s[si] >= g[gi]:\n",
    "                gi +=1\n",
    "            si +=1\n",
    "        return gi"
   ]
  },
  {
   "cell_type": "code",
   "execution_count": null,
   "metadata": {},
   "outputs": [],
   "source": []
  },
  {
   "cell_type": "code",
   "execution_count": null,
   "metadata": {},
   "outputs": [],
   "source": []
  }
 ],
 "metadata": {
  "kernelspec": {
   "display_name": "Python 3",
   "language": "python",
   "name": "python3"
  },
  "language_info": {
   "codemirror_mode": {
    "name": "ipython",
    "version": 3
   },
   "file_extension": ".py",
   "mimetype": "text/x-python",
   "name": "python",
   "nbconvert_exporter": "python",
   "pygments_lexer": "ipython3",
   "version": "3.7.4"
  }
 },
 "nbformat": 4,
 "nbformat_minor": 4
}
