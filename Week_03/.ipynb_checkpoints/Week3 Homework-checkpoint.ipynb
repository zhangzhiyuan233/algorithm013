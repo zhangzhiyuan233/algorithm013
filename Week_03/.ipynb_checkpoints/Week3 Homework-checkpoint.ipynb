{
 "cells": [
  {
   "cell_type": "markdown",
   "metadata": {},
   "source": [
    "# Week 3 Homework"
   ]
  },
  {
   "cell_type": "markdown",
   "metadata": {},
   "source": [
    "## Climbing Stairs"
   ]
  },
  {
   "cell_type": "code",
   "execution_count": null,
   "metadata": {},
   "outputs": [],
   "source": [
    "class Solution:\n",
    "    def climbStairs(self, n: int) -> int:\n",
    "        if n <= 2: return n\n",
    "        f1 = 1\n",
    "        f2 = 2\n",
    "        for i in range(3,n+1):\n",
    "            f3 = f1+f2\n",
    "            f1 = f2\n",
    "            f2 = f3\n",
    "        return f3"
   ]
  },
  {
   "cell_type": "markdown",
   "metadata": {},
   "source": [
    "## Generate Parentheses"
   ]
  },
  {
   "cell_type": "code",
   "execution_count": null,
   "metadata": {},
   "outputs": [],
   "source": [
    "class Solution:\n",
    "    def generateParenthesis(self, n: int) -> List[str]:\n",
    "        if n == 0:\n",
    "            return []\n",
    "        result = []\n",
    "        self.helper(n,n,'',result)\n",
    "        return result\n",
    "    \n",
    "    def helper(self, l,r,item, result):\n",
    "        if r<l:\n",
    "            return\n",
    "        if l == 0 and r == 0:\n",
    "            result.append(item)\n",
    "        if l>0:\n",
    "            self.helper(l-1,r,item+'(',result)\n",
    "        if r>0:\n",
    "            self.helper(l,r-1,item+')',result)\n",
    "        "
   ]
  },
  {
   "cell_type": "markdown",
   "metadata": {},
   "source": [
    "## Invert Binary Tree"
   ]
  },
  {
   "cell_type": "code",
   "execution_count": null,
   "metadata": {},
   "outputs": [],
   "source": [
    "class Solution:\n",
    "    def invertTree(self, root: TreeNode) -> TreeNode:\n",
    "        if not root:\n",
    "            return None\n",
    "        root.left, root.right = self.invertTree(root.right), self.invertTree(root.left)\n",
    "        return root"
   ]
  },
  {
   "cell_type": "code",
   "execution_count": null,
   "metadata": {},
   "outputs": [],
   "source": [
    "class Solution:\n",
    "    def invertTree(self, root: TreeNode) -> TreeNode:\n",
    "        if not root:\n",
    "            return None\n",
    "        root.left, root.right = root.right, root.left\n",
    "        self.invertTree(root.left)\n",
    "        self.invertTree(root.right)\n",
    "        return root"
   ]
  },
  {
   "cell_type": "markdown",
   "metadata": {},
   "source": [
    "## Validate Binary Search Tree"
   ]
  },
  {
   "cell_type": "markdown",
   "metadata": {},
   "source": [
    "#### Method 1 recursion"
   ]
  },
  {
   "cell_type": "code",
   "execution_count": null,
   "metadata": {},
   "outputs": [],
   "source": [
    "def isValidBST(self, root, floor=float('-inf'), ceiling=float('inf')):\n",
    "    if not root: \n",
    "        return True\n",
    "    if root.val <= floor or root.val >= ceiling:\n",
    "        return False\n",
    "    # in the left branch, root is the new ceiling; contrarily root is the new floor in right branch\n",
    "    return self.isValidBST(root.left, floor, root.val) and self.isValidBST(root.right, root.val, ceiling)"
   ]
  },
  {
   "cell_type": "markdown",
   "metadata": {},
   "source": [
    "#### Method 2 inorder traversal"
   ]
  },
  {
   "cell_type": "code",
   "execution_count": null,
   "metadata": {},
   "outputs": [],
   "source": [
    "class Solution:\n",
    "    def isValidBST(self, root: TreeNode) -> bool:\n",
    "        stack = []\n",
    "        inorder = float('-inf')\n",
    "        while stack or root:\n",
    "            while root:\n",
    "                stack.append(root)\n",
    "                root = root.left\n",
    "            root = stack.pop()\n",
    "            if root.val <= inorder:\n",
    "                return False\n",
    "            inorder = root.val\n",
    "            root = root.right\n",
    "        return True"
   ]
  },
  {
   "cell_type": "markdown",
   "metadata": {},
   "source": [
    "## maximum depth of binary tree"
   ]
  },
  {
   "cell_type": "code",
   "execution_count": null,
   "metadata": {},
   "outputs": [],
   "source": [
    "class Solution:\n",
    "    def maxDepth(self, root: TreeNode) -> int:\n",
    "        if not root:\n",
    "            return 0\n",
    "        else:\n",
    "            left_height = self.maxDepth(root.left)\n",
    "            right_height = self.maxDepth(root.right)\n",
    "            return max(left_height, right_height)+1"
   ]
  },
  {
   "cell_type": "markdown",
   "metadata": {},
   "source": [
    "## minumum depth of binary tree"
   ]
  },
  {
   "cell_type": "code",
   "execution_count": null,
   "metadata": {},
   "outputs": [],
   "source": [
    "class Solution:\n",
    "    def minDepth(self, root: TreeNode) -> int:\n",
    "        if not root:\n",
    "            return 0\n",
    "        \n",
    "        children = [root.left, root.right]\n",
    "        if not any(children):\n",
    "            return 1\n",
    "        ans = float('inf')\n",
    "        for c in children:\n",
    "            if c:\n",
    "                ans = min(self.minDepth(c),ans)\n",
    "        return ans+1"
   ]
  },
  {
   "cell_type": "markdown",
   "metadata": {},
   "source": [
    " ## Serialize and Deserialize Binary Tree"
   ]
  },
  {
   "cell_type": "code",
   "execution_count": null,
   "metadata": {},
   "outputs": [],
   "source": [
    "class Codec:\n",
    "\n",
    "    def serialize(self, root):\n",
    "        \"\"\"Encodes a tree to a single string.\n",
    "        \n",
    "        :type root: TreeNode\n",
    "        :rtype: str\n",
    "        \"\"\"\n",
    "        if not root: return '[]'\n",
    "        queue = collections.deque()\n",
    "        queue.append(root)\n",
    "        res = []\n",
    "        while queue:\n",
    "            node = queue.popleft()\n",
    "            if node:\n",
    "                res.append(str(node.val))\n",
    "                queue.append(node.left)\n",
    "                queue.append(node.right)\n",
    "            else:\n",
    "                res.append('null')\n",
    "        return '[' + ','.join(res) + ']'\n",
    "\n",
    "\n",
    "        \n",
    "\n",
    "    def deserialize(self, data):\n",
    "        \"\"\"Decodes your encoded data to tree.\n",
    "        \n",
    "        :type data: str\n",
    "        :rtype: TreeNode\n",
    "        \"\"\"\n",
    "        if data == '[]':\n",
    "            return None\n",
    "        vals, i = data[1:-1].split(','), 1\n",
    "        root = TreeNode(int(vals[0]))\n",
    "        queue = collections.deque()\n",
    "        queue.append(root)\n",
    "        while queue:\n",
    "            node = queue.popleft()\n",
    "            if vals[i] != 'null':\n",
    "                node.left = TreeNode(int(vals[i]))\n",
    "                queue.append(node.left)\n",
    "            i +=1\n",
    "            if vals[i] !='null':\n",
    "                node.right = TreeNode(int(vals[i]))\n",
    "                queue.append(node.right)\n",
    "            i +=1\n",
    "        return root"
   ]
  },
  {
   "cell_type": "markdown",
   "metadata": {},
   "source": [
    " ## Lowest Common Ancestor of a Binary Tree"
   ]
  },
  {
   "cell_type": "code",
   "execution_count": null,
   "metadata": {},
   "outputs": [],
   "source": [
    "class Solution:\n",
    "    def lowestCommonAncestor(self, root: 'TreeNode', p: 'TreeNode', q: 'TreeNode') -> 'TreeNode':\n",
    "        if not root or root == p or root == q: return root\n",
    "        left = self.lowestCommonAncestor(root.left, p , q)\n",
    "        right = self.lowestCommonAncestor(root.right, p, q)\n",
    "        if not left: return right\n",
    "        if not right: return left\n",
    "        return root"
   ]
  },
  {
   "cell_type": "markdown",
   "metadata": {},
   "source": [
    "## Combinations"
   ]
  },
  {
   "cell_type": "code",
   "execution_count": null,
   "metadata": {},
   "outputs": [],
   "source": [
    "class Solution:\n",
    "    def combine(self, n: int, k: int) -> List[List[int]]:\n",
    "        def backtrack(first = 1, curr = []):\n",
    "            if len(curr) == k:\n",
    "                output.append(curr[:])\n",
    "            for i in range(first, n + 1):\n",
    "                curr.append(i)\n",
    "                backtrack(i+1, curr)\n",
    "                curr.pop()\n",
    "        output=[]\n",
    "        backtrack()\n",
    "        return output"
   ]
  },
  {
   "cell_type": "code",
   "execution_count": null,
   "metadata": {},
   "outputs": [],
   "source": [
    "class Solution:\n",
    "    def combine(self, n: int, k: int) -> List[List[int]]:\n",
    "        nums = list(range(1, k+1)) + [n+1]\n",
    "        output, j = [], 0\n",
    "        while j < k:\n",
    "            output.append(nums[:k])\n",
    "            j = 0\n",
    "            while j <k and nums[j +1] == nums[j]+1:\n",
    "                nums[j] = j+1\n",
    "                j +=1\n",
    "            nums[j] +=1\n",
    "        return output"
   ]
  },
  {
   "cell_type": "markdown",
   "metadata": {},
   "source": [
    "## Permutations"
   ]
  },
  {
   "cell_type": "code",
   "execution_count": null,
   "metadata": {},
   "outputs": [],
   "source": [
    "class Solution:\n",
    "    def permute(self, nums: List[int]) -> List[List[int]]:\n",
    "        if len(nums) <=1:\n",
    "            return [nums]\n",
    "        answer = []\n",
    "        for i, num in enumerate(nums):\n",
    "            n = nums[:i]+nums[i+1:]\n",
    "            for y in self.permute(n):\n",
    "                answer.append([num]+y) \n",
    "        return answer"
   ]
  },
  {
   "cell_type": "code",
   "execution_count": null,
   "metadata": {},
   "outputs": [],
   "source": [
    "class Solution:\n",
    "    def permute(self, nums: List[int]) -> List[List[int]]:\n",
    "        def backtrack(first = 0):\n",
    "            if first == n:\n",
    "                res.append(nums[:])\n",
    "            for i in range(first,n):\n",
    "                nums[first], nums[i] = nums[i], nums[first]\n",
    "                backtrack(first + 1)\n",
    "                nums[first], nums[i] = nums[i], nums[first]\n",
    "        n = len(nums)\n",
    "        res = []\n",
    "        backtrack()\n",
    "        return res"
   ]
  },
  {
   "cell_type": "markdown",
   "metadata": {},
   "source": [
    "## Permutations II"
   ]
  },
  {
   "cell_type": "code",
   "execution_count": null,
   "metadata": {},
   "outputs": [],
   "source": [
    "class Solution:\n",
    "    def permuteUnique(self, nums: List[int]) -> List[List[int]]:\n",
    "        ans = [[]]\n",
    "        for n in nums:\n",
    "            new_ans = []\n",
    "            for l in ans:\n",
    "                for i in range(len(l) + 1):\n",
    "                    new_ans.append(l[:i] + [n] + l[i:])\n",
    "                    if i < len(l) and l[i] == n: break\n",
    "            ans = new_ans\n",
    "        return ans"
   ]
  },
  {
   "cell_type": "markdown",
   "metadata": {},
   "source": [
    "## Pow(x, n)"
   ]
  },
  {
   "cell_type": "code",
   "execution_count": null,
   "metadata": {},
   "outputs": [],
   "source": [
    "class Solution:\n",
    "    def myPow(self, x: float, n: int) -> float:\n",
    "        if n < 0:\n",
    "            return 1/self.helper(x, -n)\n",
    "        else:\n",
    "            return self.helper(x, n)\n",
    "    \n",
    "    \n",
    "    def helper(self, x, n):\n",
    "        if x == 0:\n",
    "            return 0\n",
    "\n",
    "        if n == 0:\n",
    "            return 1\n",
    "        \n",
    "        if n%2 == 0:\n",
    "            return self.helper(x*x, n//2)\n",
    "        else:\n",
    "            return x*self.helper(x*x, n//2)"
   ]
  },
  {
   "cell_type": "markdown",
   "metadata": {},
   "source": [
    "## Subsets"
   ]
  },
  {
   "cell_type": "code",
   "execution_count": null,
   "metadata": {},
   "outputs": [],
   "source": [
    "class Solution:\n",
    "    def subsets(self, nums: List[int]) -> List[List[int]]:\n",
    "        sol = []\n",
    "        self.helper(nums, sol, [],0)\n",
    "        return sol\n",
    "    def helper(self, nums, sol, cur, index):\n",
    "        sol.append(list(cur))\n",
    "        for i in range(index, len(nums)):\n",
    "            cur.append(nums[i])\n",
    "            self.helper(nums, sol, cur, i+1)\n",
    "            cur.pop()"
   ]
  },
  {
   "cell_type": "markdown",
   "metadata": {},
   "source": [
    "## Majority Element"
   ]
  },
  {
   "cell_type": "code",
   "execution_count": null,
   "metadata": {},
   "outputs": [],
   "source": [
    "class Solution:\n",
    "    def majorityElement(self, nums: List[int]) -> int:\n",
    "        count = collections.Counter(nums)\n",
    "        return max(count.keys(), key = count.get)"
   ]
  },
  {
   "cell_type": "markdown",
   "metadata": {},
   "source": [
    "##  Letter Combinations of a Phone Number"
   ]
  },
  {
   "cell_type": "code",
   "execution_count": null,
   "metadata": {},
   "outputs": [],
   "source": [
    "class Solution:\n",
    "    def letterCombinations(self, digits: str) -> List[str]:\n",
    "        \n",
    "        if len(digits) ==0:\n",
    "            return []\n",
    "        \n",
    "        map = {\n",
    "            1:'1',\n",
    "            0:'0',\n",
    "            2:'abc',\n",
    "            3:'def',\n",
    "            4:'ghi',\n",
    "            5:'jkl',\n",
    "            6:'mno',\n",
    "            7:'pqrs',\n",
    "            8:'tuv',\n",
    "            9:'wxyz'\n",
    "        }\n",
    "        \n",
    "        result = ['']\n",
    "        for digit in digits:\n",
    "            tmp_list =[]\n",
    "            for ch in map[int(digit)]:\n",
    "                for str in result:\n",
    "                    tmp_list.append(str+ch)\n",
    "            result = tmp_list\n",
    "        return result"
   ]
  },
  {
   "cell_type": "markdown",
   "metadata": {},
   "source": [
    "## N queens"
   ]
  },
  {
   "cell_type": "code",
   "execution_count": null,
   "metadata": {},
   "outputs": [],
   "source": [
    "class Solution:\n",
    "    def solveNQueens(self, n: int) -> List[List[str]]:\n",
    "        def could_place(row, col):\n",
    "            return not (cols[col] + hill_diagonals[row - col] + dale_diagonals[row + col])\n",
    "        \n",
    "        def place_queen(row, col):\n",
    "            queens.add((row, col))\n",
    "            cols[col] = 1\n",
    "            hill_diagonals[row - col] = 1\n",
    "            dale_diagonals[row + col] = 1\n",
    "        \n",
    "        def remove_queen(row, col):\n",
    "            queens.remove((row, col))\n",
    "            cols[col] = 0\n",
    "            hill_diagonals[row - col] = 0\n",
    "            dale_diagonals[row + col] = 0\n",
    "        \n",
    "        def add_solution():\n",
    "            solution = []\n",
    "            for _, col in sorted(queens):\n",
    "                solution.append('.' * col + 'Q' + '.' * (n - col - 1))\n",
    "            output.append(solution)\n",
    "        \n",
    "        def backtrack(row = 0):\n",
    "            for col in range(n):\n",
    "                if could_place(row, col):\n",
    "                    place_queen(row, col)\n",
    "                    if row + 1 == n:\n",
    "                        add_solution()\n",
    "                    else:\n",
    "                        backtrack(row + 1)\n",
    "                    remove_queen(row, col)\n",
    "        \n",
    "        cols = [0] * n\n",
    "        hill_diagonals = [0] * (2 * n - 1)\n",
    "        dale_diagonals = [0] * (2 * n - 1)\n",
    "        queens = set()\n",
    "        output = []\n",
    "        backtrack()\n",
    "        return output\n"
   ]
  },
  {
   "cell_type": "markdown",
   "metadata": {},
   "source": [
    "## 本周快手面试题： 和等于k的最长子数组长度"
   ]
  }
 ],
 "metadata": {
  "kernelspec": {
   "display_name": "Python 3",
   "language": "python",
   "name": "python3"
  },
  "language_info": {
   "codemirror_mode": {
    "name": "ipython",
    "version": 3
   },
   "file_extension": ".py",
   "mimetype": "text/x-python",
   "name": "python",
   "nbconvert_exporter": "python",
   "pygments_lexer": "ipython3",
   "version": "3.7.4"
  }
 },
 "nbformat": 4,
 "nbformat_minor": 4
}
