{
 "cells": [
  {
   "cell_type": "markdown",
   "metadata": {},
   "source": [
    "## Week2 Homework"
   ]
  },
  {
   "cell_type": "markdown",
   "metadata": {},
   "source": [
    "### Note:\n",
    "- 包含作业与课后习题\n",
    "- 两种方法的题目包含暴力法和课上提到的方法"
   ]
  },
  {
   "cell_type": "markdown",
   "metadata": {},
   "source": [
    "## Valid Anagram"
   ]
  },
  {
   "cell_type": "markdown",
   "metadata": {},
   "source": [
    "#### Method 1"
   ]
  },
  {
   "cell_type": "code",
   "execution_count": null,
   "metadata": {},
   "outputs": [],
   "source": [
    "class Solution:\n",
    "    def isAnagram(self, s: str, t: str) -> bool:\n",
    "        return sorted(s) == sorted(t)"
   ]
  },
  {
   "cell_type": "markdown",
   "metadata": {},
   "source": [
    "#### Method 2"
   ]
  },
  {
   "cell_type": "code",
   "execution_count": null,
   "metadata": {},
   "outputs": [],
   "source": [
    "class Solution:\n",
    "    def isAnagram(self, s: str, t: str) -> bool:\n",
    "        map_s = {}\n",
    "        map_t = {}\n",
    "        if len(s) != len(t):\n",
    "            return False\n",
    "        for c in s:\n",
    "            map_s[c] = map_s.get(c,0) + 1\n",
    "        \n",
    "        for c in t:\n",
    "            map_t[c] = map_t.get(c,0) + 1\n",
    "        \n",
    "        return map_s == map_t"
   ]
  },
  {
   "cell_type": "markdown",
   "metadata": {},
   "source": [
    "## Group Anagrams"
   ]
  },
  {
   "cell_type": "markdown",
   "metadata": {},
   "source": [
    "#### Method 1"
   ]
  },
  {
   "cell_type": "code",
   "execution_count": null,
   "metadata": {},
   "outputs": [],
   "source": [
    "class Solution:\n",
    "    def groupAnagrams(self, strs: List[str]) -> List[List[str]]:\n",
    "        dic = {}\n",
    "        for i in strs:\n",
    "            sorted_word = ''.join(sorted(i))\n",
    "            if sorted_word in dic:\n",
    "                dic[sorted_word].append(i)\n",
    "            else:\n",
    "                dic[sorted_word] = [i]\n",
    "        return dic.values()"
   ]
  },
  {
   "cell_type": "markdown",
   "metadata": {},
   "source": [
    "#### Method 2"
   ]
  },
  {
   "cell_type": "code",
   "execution_count": null,
   "metadata": {},
   "outputs": [],
   "source": [
    "class Solution:\n",
    "    def groupAnagrams(self, strs: List[str]) -> List[List[str]]:\n",
    "        dic = {}\n",
    "        for w in strs:\n",
    "            key = tuple(sorted(w))\n",
    "            dic[key] = dic.get(key,[]) + [w]\n",
    "        return (dic.values())"
   ]
  },
  {
   "cell_type": "markdown",
   "metadata": {},
   "source": [
    "## 2Sum"
   ]
  },
  {
   "cell_type": "code",
   "execution_count": null,
   "metadata": {},
   "outputs": [],
   "source": [
    "class Solution:\n",
    "    def twoSum(self, nums: List[int], target: int) -> List[int]:\n",
    "        dic = {}\n",
    "        for i, num in enumerate(nums):\n",
    "            n = target - num\n",
    "            if n not in dic:\n",
    "                dic[num] = i\n",
    "            else:\n",
    "                return [dic[n], i]"
   ]
  },
  {
   "cell_type": "markdown",
   "metadata": {},
   "source": [
    "## Binary Tree Inorder Traversal"
   ]
  },
  {
   "cell_type": "code",
   "execution_count": null,
   "metadata": {},
   "outputs": [],
   "source": [
    "class Solution:\n",
    "    def inorderTraversal(self, root: TreeNode) -> List[int]:\n",
    "        res = []\n",
    "        def pre_order(tree):\n",
    "            if not tree:\n",
    "                return \n",
    "            pre_order(tree.left)\n",
    "            res.append(tree.val)\n",
    "            pre_order(tree.right)\n",
    "        pre_order(root)\n",
    "        return res"
   ]
  },
  {
   "cell_type": "markdown",
   "metadata": {},
   "source": [
    "## Binary Tree Preorder Traversal"
   ]
  },
  {
   "cell_type": "code",
   "execution_count": null,
   "metadata": {},
   "outputs": [],
   "source": [
    "class Solution:\n",
    "    def preorderTraversal(self, root: TreeNode) -> List[int]:\n",
    "        res = []\n",
    "        def preorder(tree):\n",
    "            if not tree:\n",
    "                return \n",
    "            res.append(tree.val)\n",
    "            preorder(tree.left)\n",
    "            preorder(tree.right)\n",
    "        preorder(root)\n",
    "        return res"
   ]
  },
  {
   "cell_type": "markdown",
   "metadata": {},
   "source": [
    "## N-ary Tree Postorder Traversal"
   ]
  },
  {
   "cell_type": "markdown",
   "metadata": {},
   "source": [
    "#### Method 1: (recursion)"
   ]
  },
  {
   "cell_type": "code",
   "execution_count": null,
   "metadata": {},
   "outputs": [],
   "source": [
    "class Solution:\n",
    "    def postorder(self, root: 'Node') -> List[int]:\n",
    "        res = []\n",
    "        def post(tree):\n",
    "            if not tree:\n",
    "                return\n",
    "            children = tree.children\n",
    "            for child in children:\n",
    "                post(child)\n",
    "            res.append(tree.val)\n",
    "        post(root)\n",
    "        return res"
   ]
  },
  {
   "cell_type": "markdown",
   "metadata": {},
   "source": [
    "#### Method 2: (stack)"
   ]
  },
  {
   "cell_type": "code",
   "execution_count": null,
   "metadata": {},
   "outputs": [],
   "source": [
    "class Solution:\n",
    "    def postorder(self, root: 'Node') -> List[int]:\n",
    "        if root is None:\n",
    "            return None\n",
    "        stack = [root]\n",
    "        res = []\n",
    "        while stack:\n",
    "            root = stack.pop()\n",
    "            if root:\n",
    "                res.append(root.val)\n",
    "            for child in root.children:\n",
    "                stack.append(child)\n",
    "        return res[::-1]"
   ]
  },
  {
   "cell_type": "markdown",
   "metadata": {},
   "source": [
    "## N-ary Tree Preorder Traversal"
   ]
  },
  {
   "cell_type": "markdown",
   "metadata": {},
   "source": [
    "#### Method 1"
   ]
  },
  {
   "cell_type": "code",
   "execution_count": null,
   "metadata": {},
   "outputs": [],
   "source": [
    "class Solution:\n",
    "    def preorder(self, root: 'Node') -> List[int]:\n",
    "        if not root:\n",
    "            return None\n",
    "        res = [root.val]\n",
    "        for child in root.children:\n",
    "            res.extend(self.preorder(child))\n",
    "        return res"
   ]
  },
  {
   "cell_type": "markdown",
   "metadata": {},
   "source": [
    "#### Method 2"
   ]
  },
  {
   "cell_type": "code",
   "execution_count": null,
   "metadata": {},
   "outputs": [],
   "source": [
    "class Solution:\n",
    "    def preorder(self, root: 'Node') -> List[int]:\n",
    "        if root is None:\n",
    "            return None\n",
    "        stack, res = [root,], []\n",
    "        while stack:\n",
    "            root = stack.pop()\n",
    "            res.append(root.val)\n",
    "            stack.extend(root.children[::-1])\n",
    "        return res"
   ]
  },
  {
   "cell_type": "markdown",
   "metadata": {},
   "source": [
    "## N-ary Tree Level Order Traversal"
   ]
  },
  {
   "cell_type": "markdown",
   "metadata": {},
   "source": [
    "#### Method 1"
   ]
  },
  {
   "cell_type": "code",
   "execution_count": null,
   "metadata": {},
   "outputs": [],
   "source": [
    "class Solution:\n",
    "    def levelOrder(self, root: 'Node') -> List[List[int]]:\n",
    "        if not root: return []\n",
    "        queue = [root]\n",
    "        res = []\n",
    "        while queue:\n",
    "            res.append(node.val for node in queue)\n",
    "            queue = [child for node in queue for child in node.children]\n",
    "        return res\n",
    "        "
   ]
  },
  {
   "cell_type": "markdown",
   "metadata": {},
   "source": [
    "## 最小的K个数"
   ]
  },
  {
   "cell_type": "markdown",
   "metadata": {},
   "source": [
    "#### Method 1 (sort)"
   ]
  },
  {
   "cell_type": "code",
   "execution_count": null,
   "metadata": {},
   "outputs": [],
   "source": [
    "class Solution:\n",
    "    def getLeastNumbers(self, arr: List[int], k: int) -> List[int]:\n",
    "        arr.sort()\n",
    "        res = []\n",
    "        for i in range(0,k):\n",
    "            res.append(arr[i])\n",
    "        return res"
   ]
  },
  {
   "cell_type": "markdown",
   "metadata": {},
   "source": [
    "#### Method 2 (Heap)"
   ]
  },
  {
   "cell_type": "code",
   "execution_count": null,
   "metadata": {},
   "outputs": [],
   "source": [
    "class Solution:\n",
    "    def getLeastNumbers(self, arr: List[int], k: int) -> List[int]:\n",
    "        if k == 0:\n",
    "            return []\n",
    "        hp = [-x for x in arr[:k]]\n",
    "        heapq.heapify(hp)\n",
    "        for i in range(k, len(arr)):\n",
    "            if -hp[0] > arr[i]:\n",
    "                heapq.heappop(hp)\n",
    "                heapq.heappush(hp, -arr[i])\n",
    "        ans = [-x for x in hp]\n",
    "        return ans"
   ]
  },
  {
   "cell_type": "markdown",
   "metadata": {},
   "source": [
    "## Sliding Window Maximum (heap)"
   ]
  },
  {
   "cell_type": "code",
   "execution_count": null,
   "metadata": {},
   "outputs": [],
   "source": [
    "class Solution:\n",
    "    def maxSlidingWindow(self, nums: List[int], k: int) -> List[int]:\n",
    "        res, heap =[], []\n",
    "        for i in range(len(nums)):\n",
    "            heapq.heappush(heap,(-nums[i],i))\n",
    "            if i+1 >=k:\n",
    "                while heap and heap[0][1] < i+1 -k:\n",
    "                    heapq.heappop(heap)\n",
    "                res.append(-heap[0][0])\n",
    "        return res"
   ]
  },
  {
   "cell_type": "markdown",
   "metadata": {},
   "source": [
    "## 丑数"
   ]
  },
  {
   "cell_type": "code",
   "execution_count": null,
   "metadata": {},
   "outputs": [],
   "source": [
    "class Solution:\n",
    "    def nthUglyNumber(self, n: int) -> int:\n",
    "        dp, a, b, c = [1]*n, 0, 0 , 0\n",
    "        for i in range(1,n):\n",
    "            n2, n3, n5 = dp[a]*2, dp[b]*3, dp[c]*5\n",
    "            dp[i] = min(n2,n3,n5)\n",
    "            if dp[i] == n2: a+=1\n",
    "            if dp[i] == n3: b+=1\n",
    "            if dp[i] == n5: c+=1\n",
    "        return dp[-1]"
   ]
  },
  {
   "cell_type": "markdown",
   "metadata": {},
   "source": [
    "## Top K Frequent Elements"
   ]
  },
  {
   "cell_type": "markdown",
   "metadata": {},
   "source": [
    "#### Method 1"
   ]
  },
  {
   "cell_type": "code",
   "execution_count": null,
   "metadata": {},
   "outputs": [],
   "source": [
    "class Solution:\n",
    "    def topKFrequent(self, nums: List[int], k: int) -> List[int]:\n",
    "        Dict = {}\n",
    "        for i in range(len(nums)):\n",
    "            if nums[i] in Dict:\n",
    "                Dict[nums[i]] = Dict[nums[i]] + 1\n",
    "            else:\n",
    "                Dict[nums[i]] = 1\n",
    "        out = sorted(Dict.items(), key = lambda x:x[1], reverse = True)\n",
    "        final = []\n",
    "        for i in range(k):\n",
    "            final.append(out[i][0])\n",
    "        return final"
   ]
  },
  {
   "cell_type": "markdown",
   "metadata": {},
   "source": [
    "#### Method 2"
   ]
  },
  {
   "cell_type": "code",
   "execution_count": null,
   "metadata": {},
   "outputs": [],
   "source": [
    "class Solution:\n",
    "    def topKFrequent(self, nums: List[int], k: int) -> List[int]:\n",
    "        count = collections.Counter(nums)\n",
    "        return heapq.nlargest(k, count.keys(), key = count.get)"
   ]
  },
  {
   "cell_type": "markdown",
   "metadata": {},
   "source": [
    "#### Method 3"
   ]
  },
  {
   "cell_type": "code",
   "execution_count": null,
   "metadata": {},
   "outputs": [],
   "source": [
    "class Solution:\n",
    "    def topKFrequent(self, nums: List[int], k: int) -> List[int]:\n",
    "        count = collections.Counter(nums)\n",
    "        res = count.most_common(k)\n",
    "        ans = []\n",
    "        for pair in res:\n",
    "            ans.append(pair[0])\n",
    "        return ans"
   ]
  }
 ],
 "metadata": {
  "kernelspec": {
   "display_name": "Python 3",
   "language": "python",
   "name": "python3"
  },
  "language_info": {
   "codemirror_mode": {
    "name": "ipython",
    "version": 3
   },
   "file_extension": ".py",
   "mimetype": "text/x-python",
   "name": "python",
   "nbconvert_exporter": "python",
   "pygments_lexer": "ipython3",
   "version": "3.7.4"
  }
 },
 "nbformat": 4,
 "nbformat_minor": 4
}
